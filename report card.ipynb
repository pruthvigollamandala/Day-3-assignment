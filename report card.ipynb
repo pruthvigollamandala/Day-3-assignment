{
 "cells": [
  {
   "cell_type": "code",
   "execution_count": 1,
   "metadata": {},
   "outputs": [
    {
     "name": "stdout",
     "output_type": "stream",
     "text": [
      "enter your marks in between 100 : 55\n",
      "yor grade is C+ grade\n"
     ]
    }
   ],
   "source": [
    "marks = int(input(\"enter your marks in between 100 : \"))\n",
    "if marks >= 90 and marks <= 100 :\n",
    "    print(\"yor grade is A+ grade\")\n",
    "elif marks >= 80 and marks <= 89:\n",
    "    print(\"yor grade is A grade\")\n",
    "elif marks >= 70 and marks <= 79:\n",
    "    print(\"yor grade is B+ grade\")\n",
    "elif  marks >= 60 and marks <= 69:\n",
    "    print(\"yor grade is B grade\")\n",
    "elif marks >= 50 and marks <= 59:\n",
    "    print(\"yor grade is C+ grade\")\n",
    "elif marks >= 40 and marks <= 49:\n",
    "    print(\"yor grade is C grade\")\n",
    "elif marks >= 35 and marks <= 39:\n",
    "    print(\"yor grade is D grade\")\n",
    "else:\n",
    "    print(\"sorry you are failed\")\n",
    "\n"
   ]
  },
  {
   "cell_type": "code",
   "execution_count": null,
   "metadata": {},
   "outputs": [],
   "source": []
  }
 ],
 "metadata": {
  "kernelspec": {
   "display_name": "Python 3",
   "language": "python",
   "name": "python3"
  },
  "language_info": {
   "codemirror_mode": {
    "name": "ipython",
    "version": 3
   },
   "file_extension": ".py",
   "mimetype": "text/x-python",
   "name": "python",
   "nbconvert_exporter": "python",
   "pygments_lexer": "ipython3",
   "version": "3.8.5"
  }
 },
 "nbformat": 4,
 "nbformat_minor": 4
}
